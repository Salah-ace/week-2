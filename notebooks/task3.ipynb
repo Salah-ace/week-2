{
 "cells": [
  {
   "cell_type": "code",
   "execution_count": 6,
   "id": "3a732782",
   "metadata": {},
   "outputs": [],
   "source": [
    "bank_to_package = {\n",
    "    \"CBE\": \"com.cbe.cbe\",                      # Matches 'CBE' in your CSV\n",
    "    \"BOA\": \"com.boa.mobilebanking\",            # Matches 'BOA'\n",
    "    \"Dashen\": \"com.dashen.mobilebanking\"       # Matches 'Dashen'\n",
    "}"
   ]
  },
  {
   "cell_type": "code",
   "execution_count": 2,
   "id": "8256685f",
   "metadata": {},
   "outputs": [
    {
     "name": "stdout",
     "output_type": "stream",
     "text": [
      "Connection to MySQL DB successful\n"
     ]
    }
   ],
   "source": [
    "import mysql.connector\n",
    "from mysql.connector import Error\n",
    "\n",
    "def create_connection():\n",
    "    connection = None\n",
    "    try:\n",
    "        connection = mysql.connector.connect(\n",
    "            host='localhost',  # e.g., 'localhost'\n",
    "            user='root',  # your MySQL username\n",
    "            password='mysql260394',  # your MySQL password\n",
    "            database='bank_reviews'  # your database name\n",
    "        )\n",
    "        if connection.is_connected():\n",
    "            print(\"Connection to MySQL DB successful\")\n",
    "    except Error as e:\n",
    "        print(f\"The error '{e}' occurred\")\n",
    "    return connection\n",
    "\n",
    "# Example usage\n",
    "conn = create_connection()"
   ]
  },
  {
   "cell_type": "code",
   "execution_count": 9,
   "id": "2125001b",
   "metadata": {},
   "outputs": [],
   "source": [
    "# Add sentiment labels based on sentiment_score\n",
    "df['sentiment'] = df['sentiment_score'].apply(\n",
    "    lambda x: 'POSITIVE' if x > 0.05 else 'NEGATIVE' if x < -0.05 else 'NEUTRAL'\n",
    ")"
   ]
  },
  {
   "cell_type": "code",
   "execution_count": 10,
   "id": "145360cb",
   "metadata": {},
   "outputs": [
    {
     "name": "stdout",
     "output_type": "stream",
     "text": [
      "✅ Successfully inserted 5/5 records\n"
     ]
    }
   ],
   "source": [
    "import mysql.connector\n",
    "import pandas as pd\n",
    "\n",
    "# Load CSV and add sentiment labels\n",
    "df = pd.read_csv('sentiment_themes_results.csv')\n",
    "df['sentiment'] = df['sentiment_score'].apply(\n",
    "    lambda x: 'POSITIVE' if x > 0.05 else 'NEGATIVE' if x < -0.05 else 'NEUTRAL'\n",
    ")\n",
    "\n",
    "# Bank name to package mapping\n",
    "bank_to_package = {\n",
    "    \"CBE\": \"com.cbe.cbe\",\n",
    "    \"BOA\": \"com.boa.mobilebanking\",\n",
    "    \"Dashen\": \"com.dashen.mobilebanking\"\n",
    "}\n",
    "\n",
    "# MySQL Connection\n",
    "try:\n",
    "    connection = mysql.connector.connect(\n",
    "        host=\"localhost\",\n",
    "        user=\"bank_user\",\n",
    "        password=\"mysql260394\",\n",
    "        database=\"bank_reviews\"\n",
    "    )\n",
    "    cursor = connection.cursor()\n",
    "\n",
    "    success_count = 0\n",
    "    for _, row in df.iterrows():\n",
    "        try:\n",
    "            # Get bank_id\n",
    "            package_id = bank_to_package[row['bank']]\n",
    "            cursor.execute(\n",
    "                \"SELECT bank_id FROM banks WHERE app_package_name = %s\",\n",
    "                (package_id,)\n",
    "            )\n",
    "            bank_id = cursor.fetchone()[0]\n",
    "            \n",
    "            # Insert review (now with all required columns)\n",
    "            cursor.execute(\n",
    "                \"\"\"\n",
    "                INSERT INTO reviews (\n",
    "                    bank_id, review_text, rating, \n",
    "                    sentiment_score, sentiment, theme, review_date\n",
    "                ) VALUES (%s, %s, %s, %s, %s, %s, %s)\n",
    "                \"\"\",\n",
    "                (\n",
    "                    bank_id, row['review'], row['rating'],\n",
    "                    row['sentiment_score'], row['sentiment'],\n",
    "                    row['theme'], row['date']\n",
    "                )\n",
    "            )\n",
    "            success_count += 1\n",
    "        except Exception as e:\n",
    "            print(f\"Error inserting {row['bank']}: {str(e)}\")\n",
    "\n",
    "    connection.commit()\n",
    "    print(f\"✅ Successfully inserted {success_count}/{len(df)} records\")\n",
    "\n",
    "except Exception as e:\n",
    "    print(f\"❌ Database error: {e}\")\n",
    "finally:\n",
    "    if 'connection' in locals() and connection.is_connected():\n",
    "        cursor.close()\n",
    "        connection.close()"
   ]
  },
  {
   "cell_type": "code",
   "execution_count": 11,
   "id": "e2b8abb3",
   "metadata": {},
   "outputs": [
    {
     "name": "stdout",
     "output_type": "stream",
     "text": [
      "Columns in CSV: ['review_id', 'review', 'rating', 'sentiment_score', 'theme', 'bank', 'date', 'sentiment']\n"
     ]
    }
   ],
   "source": [
    "print(\"Columns in CSV:\", df.columns.tolist())"
   ]
  }
 ],
 "metadata": {
  "kernelspec": {
   "display_name": "venv",
   "language": "python",
   "name": "python3"
  },
  "language_info": {
   "codemirror_mode": {
    "name": "ipython",
    "version": 3
   },
   "file_extension": ".py",
   "mimetype": "text/x-python",
   "name": "python",
   "nbconvert_exporter": "python",
   "pygments_lexer": "ipython3",
   "version": "3.13.3"
  }
 },
 "nbformat": 4,
 "nbformat_minor": 5
}
