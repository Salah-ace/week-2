{
 "cells": [
  {
   "cell_type": "code",
   "execution_count": 1,
   "id": "6fa0f057",
   "metadata": {},
   "outputs": [
    {
     "name": "stdout",
     "output_type": "stream",
     "text": [
      "Starting Google Play Store review scraping...\n",
      "Target banks: Commercial Bank of Ethiopia, Bank of Abyssinia, Dashen Bank\n",
      "\n"
     ]
    },
    {
     "name": "stderr",
     "output_type": "stream",
     "text": [
      "Processing Banks:  33%|███▎      | 1/3 [00:01<00:03,  1.81s/it]"
     ]
    },
    {
     "name": "stdout",
     "output_type": "stream",
     "text": [
      "\n",
      "Invalid app ID for Commercial Bank of Ethiopia: com.cbe.cbe\n"
     ]
    },
    {
     "name": "stderr",
     "output_type": "stream",
     "text": [
      "Processing Banks:  67%|██████▋   | 2/3 [00:02<00:01,  1.35s/it]"
     ]
    },
    {
     "name": "stdout",
     "output_type": "stream",
     "text": [
      "\n",
      "Invalid app ID for Bank of Abyssinia: com.boa.mobilebanking\n"
     ]
    },
    {
     "name": "stderr",
     "output_type": "stream",
     "text": [
      "Processing Banks: 100%|██████████| 3/3 [00:03<00:00,  1.20s/it]"
     ]
    },
    {
     "name": "stdout",
     "output_type": "stream",
     "text": [
      "\n",
      "Invalid app ID for Dashen Bank: com.dashen.mobilebanking\n",
      "\n",
      "No reviews were scraped from any bank.\n"
     ]
    },
    {
     "name": "stderr",
     "output_type": "stream",
     "text": [
      "\n"
     ]
    }
   ],
   "source": [
    "from google_play_scraper import app, Sort, reviews_all\n",
    "import pandas as pd\n",
    "from datetime import datetime\n",
    "import time\n",
    "import os\n",
    "import json\n",
    "from tqdm import tqdm  # For progress bars\n",
    "\n",
    "# Configure scraping parameters\n",
    "BANK_APPS = {\n",
    "    'Commercial Bank of Ethiopia': 'com.cbe.cbe',\n",
    "    'Bank of Abyssinia': 'com.boa.mobilebanking',\n",
    "    'Dashen Bank': 'com.dashen.mobilebanking'\n",
    "}\n",
    "\n",
    "SCRAPE_SETTINGS = {\n",
    "    'lang': 'en',               # Language\n",
    "    'country': 'et',            # Country (Ethiopia)\n",
    "    'sort': Sort.NEWEST,        # Sort order\n",
    "    'sleep_milliseconds': 2000, # Delay between requests\n",
    "}\n",
    "\n",
    "def validate_app_id(app_id):\n",
    "    \"\"\"Check if app exists before scraping\"\"\"\n",
    "    try:\n",
    "        app_info = app(app_id)\n",
    "        return True\n",
    "    except:\n",
    "        return False\n",
    "\n",
    "def scrape_reviews(app_name, app_id, max_retries=3):\n",
    "    for attempt in range(max_retries):\n",
    "        try:\n",
    "            print(f\"\\nAttempt {attempt + 1} for {app_name}...\")\n",
    "            \n",
    "            # Get app info first for validation\n",
    "            app_info = app(app_id)\n",
    "            print(f\"App found: {app_info['title']} (Version: {app_info['version']})\")\n",
    "            \n",
    "            # Scrape reviews with progress indication\n",
    "            print(\"Scraping reviews...\")\n",
    "            reviews = reviews_all(\n",
    "                app_id,\n",
    "                **SCRAPE_SETTINGS\n",
    "            )\n",
    "            \n",
    "            if not reviews:\n",
    "                print(f\"No reviews found for {app_name}\")\n",
    "                return pd.DataFrame()\n",
    "            \n",
    "            df = pd.DataFrame(reviews)\n",
    "            df['bank'] = app_name\n",
    "            df['app_version'] = app_info['version']\n",
    "            df['source'] = 'Google Play'\n",
    "            \n",
    "            # Process and clean data\n",
    "            df = df[['content', 'score', 'at', 'bank', 'app_version', 'source']]\n",
    "            df.columns = ['review', 'rating', 'date', 'bank', 'app_version', 'source']\n",
    "            df['date'] = pd.to_datetime(df['date']).dt.strftime('%Y-%m-%d %H:%M:%S')\n",
    "            \n",
    "            print(f\"Successfully scraped {len(df)} reviews for {app_name}\")\n",
    "            return df\n",
    "            \n",
    "        except Exception as e:\n",
    "            print(f\"Attempt {attempt + 1} failed for {app_name}: {str(e)}\")\n",
    "            if attempt < max_retries - 1:\n",
    "                wait_time = (attempt + 1) * 5  # Exponential backoff\n",
    "                print(f\"Waiting {wait_time} seconds before retry...\")\n",
    "                time.sleep(wait_time)\n",
    "            else:\n",
    "                return pd.DataFrame()\n",
    "\n",
    "def save_metadata(app_data):\n",
    "    \"\"\"Save app metadata for reference\"\"\"\n",
    "    os.makedirs('metadata', exist_ok=True)\n",
    "    timestamp = datetime.now().strftime(\"%Y%m%d_%H%M%S\")\n",
    "    filename = f\"metadata/app_metadata_{timestamp}.json\"\n",
    "    with open(filename, 'w') as f:\n",
    "        json.dump(app_data, f, indent=2)\n",
    "    print(f\"\\nApp metadata saved to {filename}\")\n",
    "\n",
    "if __name__ == \"__main__\":\n",
    "    all_reviews = pd.DataFrame()\n",
    "    app_metadata = {}\n",
    "    \n",
    "    print(\"Starting Google Play Store review scraping...\")\n",
    "    print(f\"Target banks: {', '.join(BANK_APPS.keys())}\\n\")\n",
    "    \n",
    "    for bank_name, app_id in tqdm(BANK_APPS.items(), desc=\"Processing Banks\"):\n",
    "        if not validate_app_id(app_id):\n",
    "            print(f\"\\nInvalid app ID for {bank_name}: {app_id}\")\n",
    "            continue\n",
    "            \n",
    "        bank_reviews = scrape_reviews(bank_name, app_id)\n",
    "        \n",
    "        if not bank_reviews.empty:\n",
    "            all_reviews = pd.concat([all_reviews, bank_reviews], ignore_index=True)\n",
    "            \n",
    "        # Store app metadata\n",
    "        try:\n",
    "            app_info = app(app_id)\n",
    "            app_metadata[bank_name] = {\n",
    "                'app_id': app_id,\n",
    "                'version': app_info.get('version', 'N/A'),\n",
    "                'install_count': app_info.get('installs', 'N/A'),\n",
    "                'average_rating': app_info.get('score', 'N/A'),\n",
    "                'last_updated': app_info.get('updated', 'N/A')\n",
    "            }\n",
    "        except Exception as e:\n",
    "            print(f\"Could not fetch metadata for {bank_name}: {str(e)}\")\n",
    "    \n",
    "    if not all_reviews.empty:\n",
    "        # Save reviews\n",
    "        os.makedirs('data', exist_ok=True)\n",
    "        timestamp = datetime.now().strftime(\"%Y%m%d_%H%M%S\")\n",
    "        filename = f\"data/bank_reviews_{timestamp}.csv\"\n",
    "        \n",
    "        # Additional data cleaning\n",
    "        all_reviews = all_reviews.drop_duplicates(subset=['review', 'bank'])\n",
    "        all_reviews = all_reviews.sort_values(by=['bank', 'date'], ascending=[True, False])\n",
    "        \n",
    "        all_reviews.to_csv(filename, index=False, encoding='utf-8-sig')\n",
    "        print(f\"\\nSuccessfully saved {len(all_reviews)} reviews to {filename}\")\n",
    "        \n",
    "        # Save metadata\n",
    "        save_metadata(app_metadata)\n",
    "        \n",
    "        # Print summary\n",
    "        print(\"\\nScraping Summary:\")\n",
    "        print(f\"- Total reviews collected: {len(all_reviews)}\")\n",
    "        print(\"- Reviews per bank:\")\n",
    "        print(all_reviews['bank'].value_counts().to_string())\n",
    "    else:\n",
    "        print(\"\\nNo reviews were scraped from any bank.\")"
   ]
  },
  {
   "cell_type": "code",
   "execution_count": 2,
   "id": "86b569cd",
   "metadata": {},
   "outputs": [
    {
     "name": "stdout",
     "output_type": "stream",
     "text": [
      "Usage: python preprocess_reviews.py <input_file> <output_file>\n"
     ]
    }
   ],
   "source": [
    "import pandas as pd\n",
    "import numpy as np\n",
    "from datetime import datetime\n",
    "\n",
    "def preprocess_reviews(input_file, output_file):\n",
    "    # Read the scraped data\n",
    "    df = pd.read_csv(input_file)\n",
    "    \n",
    "    # 1. Handle missing data\n",
    "    print(f\"Initial count: {len(df)}\")\n",
    "    \n",
    "    # Drop rows with missing reviews\n",
    "    df = df.dropna(subset=['review'])\n",
    "    print(f\"After dropping missing reviews: {len(df)}\")\n",
    "    \n",
    "    # Fill missing ratings with neutral (3)\n",
    "    df['rating'] = df['rating'].fillna(3)\n",
    "    \n",
    "    # 2. Remove duplicates\n",
    "    df = df.drop_duplicates(subset=['review', 'bank'])\n",
    "    print(f\"After removing duplicates: {len(df)}\")\n",
    "    \n",
    "    # 3. Normalize dates\n",
    "    df['date'] = pd.to_datetime(df['date']).dt.strftime('%Y-%m-%d')\n",
    "    \n",
    "    # 4. Ensure proper data types\n",
    "    df['rating'] = df['rating'].astype(int)\n",
    "    \n",
    "    # Save cleaned data\n",
    "    df.to_csv(output_file, index=False)\n",
    "    print(f\"Saved cleaned data to {output_file}\")\n",
    "\n",
    "if __name__ == \"__main__\":\n",
    "    import sys\n",
    "    if len(sys.argv) != 3:\n",
    "        print(\"Usage: python preprocess_reviews.py <input_file> <output_file>\")\n",
    "    else:\n",
    "        preprocess_reviews(sys.argv[1], sys.argv[2])"
   ]
  },
  {
   "cell_type": "code",
   "execution_count": null,
   "id": "6cbc22b4",
   "metadata": {},
   "outputs": [],
   "source": []
  }
 ],
 "metadata": {
  "kernelspec": {
   "display_name": "venv",
   "language": "python",
   "name": "python3"
  },
  "language_info": {
   "codemirror_mode": {
    "name": "ipython",
    "version": 3
   },
   "file_extension": ".py",
   "mimetype": "text/x-python",
   "name": "python",
   "nbconvert_exporter": "python",
   "pygments_lexer": "ipython3",
   "version": "3.13.3"
  }
 },
 "nbformat": 4,
 "nbformat_minor": 5
}
